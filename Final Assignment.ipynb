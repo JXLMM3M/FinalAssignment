{
  "metadata": {
    "kernelspec": {
      "name": "python",
      "display_name": "Python (Pyodide)",
      "language": "python"
    },
    "language_info": {
      "codemirror_mode": {
        "name": "python",
        "version": 3
      },
      "file_extension": ".py",
      "mimetype": "text/x-python",
      "name": "python",
      "nbconvert_exporter": "python",
      "pygments_lexer": "ipython3",
      "version": "3.8"
    }
  },
  "nbformat_minor": 4,
  "nbformat": 4,
  "cells": [
    {
      "cell_type": "markdown",
      "source": "# Load and Explore Data Set",
      "metadata": {}
    },
    {
      "cell_type": "code",
      "source": "import pandas as pd\nimport numpy as np\nimport matplotlib.pyplot as plt\nimport seaborn as sns\nfrom sklearn.datasets import load_boston\n\n# Load the dataset\nboston = load_boston()\ndata = pd.DataFrame(boston.data, columns=boston.feature_names)\ndata['MEDV'] = boston.target\n\n# Explore the dataset\nprint(data.head())\nprint(data.describe())\nprint(data.info())\n",
      "metadata": {
        "trusted": true
      },
      "outputs": [],
      "execution_count": null
    },
    {
      "cell_type": "code",
      "source": "plt.figure(figsize=(10, 6))\nsns.boxplot(x=data['MEDV'])\nplt.title('Boxplot of Median Value of Owner-Occupied Homes (MEDV)')\nplt.xlabel('MEDV')\nplt.show()\n",
      "metadata": {
        "trusted": true
      },
      "outputs": [],
      "execution_count": null
    },
    {
      "cell_type": "code",
      "source": "plt.figure(figsize=(10, 6))\ndata['CHAS'].value_counts().plot(kind='bar', color=['blue', 'green'])\nplt.title('Bar Plot of Charles River Dummy Variable (CHAS)')\nplt.xlabel('CHAS')\nplt.ylabel('Count')\nplt.xticks(ticks=[0, 1], labels=['No', 'Yes'], rotation=0)\nplt.show()\n",
      "metadata": {
        "trusted": true
      },
      "outputs": [],
      "execution_count": null
    },
    {
      "cell_type": "code",
      "source": "# Discretize AGE into three groups\nbins = [0, 35, 70, np.inf]\nlabels = ['35 years and younger', '35 to 70 years', '70 years and older']\ndata['AGE_GROUP'] = pd.cut(data['AGE'], bins=bins, labels=labels)\n\nplt.figure(figsize=(12, 6))\nsns.boxplot(x=data['AGE_GROUP'], y=data['MEDV'])\nplt.title('Boxplot of MEDV vs. AGE Groups')\nplt.xlabel('AGE Group')\nplt.ylabel('MEDV')\nplt.show()\n",
      "metadata": {
        "trusted": true
      },
      "outputs": [],
      "execution_count": null
    },
    {
      "cell_type": "code",
      "source": "plt.figure(figsize=(10, 6))\nsns.scatterplot(x=data['INDUS'], y=data['NOX'])\nplt.title('Scatter Plot of Nitric Oxide Concentrations (NOX) vs. Proportion of Non-Retail Business Acres (INDUS)')\nplt.xlabel('INDUS')\nplt.ylabel('NOX')\nplt.show()\n",
      "metadata": {
        "trusted": true
      },
      "outputs": [],
      "execution_count": null
    },
    {
      "cell_type": "code",
      "source": "plt.figure(figsize=(10, 6))\nsns.histplot(data['PTRATIO'], bins=20, kde=True)\nplt.title('Histogram of Pupil-Teacher Ratio (PTRATIO)')\nplt.xlabel('PTRATIO')\nplt.ylabel('Frequency')\nplt.show()",
      "metadata": {
        "trusted": true
      },
      "outputs": [],
      "execution_count": null
    },
    {
      "cell_type": "code",
      "source": "from scipy.stats import ttest_ind\n\n# Separate the data based on CHAS\nbounded_river = data[data['CHAS'] == 1]['MEDV']\nnot_bounded_river = data[data['CHAS'] == 0]['MEDV']\n\n# Perform the T-Test\nt_stat, p_value = ttest_ind(bounded_river, not_bounded_river)\n\nprint(f\"T-statistic: {t_stat}\")\nprint(f\"P-value: {p_value}\")\n\n# Conclusion\nalpha = 0.05\nif p_value <= alpha:\n    print(\"Reject the null hypothesis: There is a significant difference in MEDV between houses bounded and not bounded by the Charles River.\")\nelse:\n    print(\"Fail to reject the null hypothesis: There is no significant difference in MEDV between houses bounded and not bounded by the Charles River.\")\n",
      "metadata": {
        "trusted": true
      },
      "outputs": [],
      "execution_count": null
    },
    {
      "cell_type": "code",
      "source": "from scipy.stats import f_oneway\n\n# Perform ANOVA\ngroups = [data[data['AGE_GROUP'] == label]['MEDV'] for label in labels]\nf_stat, p_value = f_oneway(*groups)\n\nprint(f\"F-statistic: {f_stat}\")\nprint(f\"P-value: {p_value}\")\n\n# Conclusion\nif p_value <= alpha:\n    print(\"Reject the null hypothesis: There is a significant difference in MEDV across different AGE groups.\")\nelse:\n    print(\"Fail to reject the null hypothesis: There is no significant difference in MEDV across different AGE groups.\")\n",
      "metadata": {
        "trusted": true
      },
      "outputs": [],
      "execution_count": null
    },
    {
      "cell_type": "code",
      "source": "import statsmodels.api as sm\n\n# Define the dependent and independent variables\nX = data[['DIS']]\ny = data['MEDV']\n\n# Add a constant to the model (intercept)\nX = sm.add_constant(X)\n\n# Fit the regression model\nmodel = sm.OLS(y, X).fit()\n\n# Print the summary\nprint(model.summary())\n\n# Conclusion\n# Check the p-value for DIS in the regression summary\nif model.pvalues['DIS'] <= alpha:\n    print(\"Reject the null hypothesis: The distance has a significant impact on MEDV.\")\nelse:\n    print(\"Fail to reject the null hypothesis: The distance does not have a significant impact on MEDV.\")\n",
      "metadata": {
        "trusted": true
      },
      "outputs": [],
      "execution_count": null
    }
  ]
}